{
  "nbformat": 4,
  "nbformat_minor": 0,
  "metadata": {
    "colab": {
      "provenance": []
    },
    "kernelspec": {
      "name": "python3",
      "display_name": "Python 3"
    },
    "language_info": {
      "name": "python"
    }
  },
  "cells": [
    {
      "cell_type": "code",
      "execution_count": 4,
      "metadata": {
        "colab": {
          "base_uri": "https://localhost:8080/"
        },
        "id": "Fbha_GUpXoSy",
        "outputId": "898ae9a3-d43e-4d22-98a6-1dfd2a53d5c5"
      },
      "outputs": [
        {
          "output_type": "stream",
          "name": "stdout",
          "text": [
            "The best position found: [5, 2, 6, 1, 7, 4, 0, 3]\n",
            "cost = 0\n",
            "Sharada Koundinya - 1BM23CS310\n"
          ]
        }
      ],
      "source": [
        "import random\n",
        "import math\n",
        "\n",
        "def calculate_cost(state):\n",
        "    cost = 0\n",
        "    n = len(state)\n",
        "    for i in range(n):\n",
        "        for j in range(i + 1, n):\n",
        "            if state[i] == state[j] or abs(state[i] - state[j]) == abs(i - j):\n",
        "                cost += 1\n",
        "    return cost\n",
        "\n",
        "def get_random_neighbor(state):\n",
        "    n = len(state)\n",
        "    new_state = list(state)\n",
        "    col = random.randint(0, n - 1)\n",
        "    row = random.randint(0, n - 1)\n",
        "    new_state[col] = row\n",
        "    return new_state\n",
        "\n",
        "def simulated_annealing(n=8, max_iterations=10000, initial_temp=100.0, cooling_rate=0.99):\n",
        "\n",
        "    current = [random.randint(0, n - 1) for _ in range(n)]\n",
        "    current_cost = calculate_cost(current)\n",
        "    best = current\n",
        "    best_cost = current_cost\n",
        "    temperature = initial_temp\n",
        "\n",
        "    for _ in range(max_iterations):\n",
        "        if current_cost == 0:\n",
        "            break\n",
        "\n",
        "        neighbor = get_random_neighbor(current)\n",
        "        neighbor_cost = calculate_cost(neighbor)\n",
        "        delta = neighbor_cost - current_cost\n",
        "\n",
        "        if delta < 0 or random.random() < math.exp(-delta / temperature):\n",
        "            current, current_cost = neighbor, neighbor_cost\n",
        "\n",
        "            if current_cost < best_cost:\n",
        "                best, best_cost = current, current_cost\n",
        "\n",
        "        temperature *= cooling_rate\n",
        "        if temperature < 1e-6:\n",
        "            break\n",
        "\n",
        "    return best, best_cost\n",
        "\n",
        "best_state, best_cost = simulated_annealing()\n",
        "\n",
        "print(\"The best position found:\", best_state)\n",
        "print(\"cost =\", best_cost)\n",
        "\n",
        "print(\"Sharada Koundinya - 1BM23CS310\")"
      ]
    }
  ]
}