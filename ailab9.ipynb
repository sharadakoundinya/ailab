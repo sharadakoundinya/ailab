{
  "nbformat": 4,
  "nbformat_minor": 0,
  "metadata": {
    "colab": {
      "provenance": []
    },
    "kernelspec": {
      "name": "python3",
      "display_name": "Python 3"
    },
    "language_info": {
      "name": "python"
    }
  },
  "cells": [
    {
      "cell_type": "code",
      "source": [
        "def occurs_check(var, term, subst):\n",
        "    if var == term:\n",
        "        return True\n",
        "    elif isinstance(term, tuple):\n",
        "        return any(occurs_check(var, t, subst) for t in term)\n",
        "    elif term in subst:\n",
        "        return occurs_check(var, subst[term], subst)\n",
        "    return False\n",
        "\n",
        "def unify(x, y, subst):\n",
        "    if subst is None:\n",
        "        return None\n",
        "    elif x == y:\n",
        "        return subst\n",
        "    elif isinstance(x, str) and x.isupper():\n",
        "        return unify_var(x, y, subst)\n",
        "    elif isinstance(y, str) and y.isupper():\n",
        "        return unify_var(y, x, subst)\n",
        "    elif isinstance(x, tuple) and isinstance(y, tuple):\n",
        "        if x[0] != y[0] or len(x) != len(y):\n",
        "            return None\n",
        "        for a, b in zip(x[1:], y[1:]):\n",
        "            subst = unify(a, b, subst)\n",
        "            if subst is None:\n",
        "                return None\n",
        "        return subst\n",
        "    else:\n",
        "        return None\n",
        "\n",
        "def unify_var(var, x, subst):\n",
        "    if var in subst:\n",
        "        return unify(subst[var], x, subst)\n",
        "    elif x in subst:\n",
        "        return unify(var, subst[x], subst)\n",
        "    elif occurs_check(var, x, subst):\n",
        "        return None\n",
        "    else:\n",
        "        subst[var] = x\n",
        "        return subst\n",
        "\n",
        "def parse_expr(s):\n",
        "    s = s.replace(\" \", \"\")\n",
        "    if '(' not in s:\n",
        "        return s\n",
        "    name_end = s.index('(')\n",
        "    name = s[:name_end]\n",
        "    args = []\n",
        "    depth = 0\n",
        "    current = \"\"\n",
        "    for c in s[name_end+1:-1]:\n",
        "        if c == ',' and depth == 0:\n",
        "            args.append(parse_expr(current))\n",
        "            current = \"\"\n",
        "        else:\n",
        "            if c == '(':\n",
        "                depth += 1\n",
        "            elif c == ')':\n",
        "                depth -= 1\n",
        "            current += c\n",
        "    if current:\n",
        "        args.append(parse_expr(current))\n",
        "    return tuple([name] + args)\n",
        "\n",
        "def expr_to_str(expr):\n",
        "    if isinstance(expr, tuple):\n",
        "        return expr[0] + \"(\" + \",\".join(expr_to_str(e) for e in expr[1:]) + \")\"\n",
        "    else:\n",
        "        return expr\n",
        "\n",
        "expr1_input = input(\"Enter first expression: \")\n",
        "expr2_input = input(\"Enter second expression: \")\n",
        "\n",
        "expr1 = parse_expr(expr1_input)\n",
        "expr2 = parse_expr(expr2_input)\n",
        "\n",
        "subst = unify(expr1, expr2, {})\n",
        "\n",
        "if subst:\n",
        "    formatted_subst = {var: expr_to_str(val) for var, val in subst.items()}\n",
        "else:\n",
        "    formatted_subst = None\n",
        "\n",
        "print(\"Most General Unifier (MGU):\", formatted_subst)\n",
        "print(\"Sharada Koundinya,1BM23CS310\")\n"
      ],
      "metadata": {
        "colab": {
          "base_uri": "https://localhost:8080/"
        },
        "id": "-RMuMJLSJlXa",
        "outputId": "17c216eb-97d3-4548-ceef-e50bb9286cf5"
      },
      "execution_count": 34,
      "outputs": [
        {
          "output_type": "stream",
          "name": "stdout",
          "text": [
            "Enter first expression: p(b,X,f(g(Z)))\n",
            "Enter second expression: p(Z,f(Y),f(Y))\n",
            "Most General Unifier (MGU): {'Z': 'b', 'X': 'f(Y)', 'Y': 'g(Z)'}\n",
            "Sharada Koundinya,1BM23CS310\n"
          ]
        }
      ]
    }
  ]
}