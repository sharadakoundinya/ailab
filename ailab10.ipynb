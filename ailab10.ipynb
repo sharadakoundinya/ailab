{
  "nbformat": 4,
  "nbformat_minor": 0,
  "metadata": {
    "colab": {
      "provenance": []
    },
    "kernelspec": {
      "name": "python3",
      "display_name": "Python 3"
    },
    "language_info": {
      "name": "python"
    }
  },
  "cells": [
    {
      "cell_type": "code",
      "execution_count": 4,
      "metadata": {
        "colab": {
          "base_uri": "https://localhost:8080/"
        },
        "id": "kAzG7XsBLiBq",
        "outputId": "42f5bd27-4318-47c2-8fbe-883e819106fc"
      },
      "outputs": [
        {
          "output_type": "stream",
          "name": "stdout",
          "text": [
            "Robert is a criminal.\n",
            "Sharada Koundinya 1BM23CS310\n"
          ]
        }
      ],
      "source": [
        "facts = {\n",
        "    'American(Robert)': True,  # Robert is an American\n",
        "    'Hostile(A)': True,        # Country A is hostile to America\n",
        "    'Sells_Weapons(Robert, A)': True  # Robert sold weapons to Country A\n",
        "}\n",
        "\n",
        "# Define the law/rule: If American(X) and Hostile(Y) and Sells_Weapons(X, Y), then Crime(X)\n",
        "def forward_reasoning(facts):\n",
        "    # Apply the rule: If American(X) and Hostile(Y) and Sells_Weapons(X, Y), then Crime(X)\n",
        "    if facts.get('American(Robert)', False) and facts.get('Hostile(A)', False) and facts.get('Sells_Weapons(Robert, A)', False):\n",
        "        facts['Crime(Robert)'] = True  # Robert is a criminal\n",
        "\n",
        "# Perform forward reasoning to see if we can deduce that Robert is a criminal\n",
        "forward_reasoning(facts)\n",
        "\n",
        "# Output the result based on the fact derived\n",
        "if facts.get('Crime(Robert)', False):\n",
        "    print(\"Robert is a criminal.\")\n",
        "    print(\"Sharada Koundinya 1BM23CS310\")\n",
        "else:\n",
        "    print(\"Robert is not a criminal.\")"
      ]
    }
  ]
}