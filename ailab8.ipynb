{
  "nbformat": 4,
  "nbformat_minor": 0,
  "metadata": {
    "colab": {
      "provenance": []
    },
    "kernelspec": {
      "name": "python3",
      "display_name": "Python 3"
    },
    "language_info": {
      "name": "python"
    }
  },
  "cells": [
    {
      "cell_type": "code",
      "source": [
        "import itertools\n",
        "\n",
        "def eval_expr(expr, model):\n",
        "    try:\n",
        "        return eval(expr, {}, model)\n",
        "    except:\n",
        "        return False\n",
        "\n",
        "def tt_entails(KB, query):\n",
        "    symbols = sorted(set([ch for ch in KB + query if ch.isalpha()]))\n",
        "\n",
        "    print(\"\\nTruth Table:\")\n",
        "    print(\" | \".join(symbols) + \" | KB | Query\")\n",
        "    print(\"-\" * (6 * len(symbols) + 20))\n",
        "\n",
        "    entails = True\n",
        "    for values in itertools.product([False, True], repeat=len(symbols)):\n",
        "        model = dict(zip(symbols, values))\n",
        "        kb_val = eval_expr(KB, model)\n",
        "        query_val = eval_expr(query, model)\n",
        "\n",
        "        row = \" | \".join([\"T\" if model[s] else \"F\" for s in symbols])\n",
        "        print(f\"{row} |  {kb_val}  |  {query_val}\")\n",
        "\n",
        "        if kb_val and not query_val:\n",
        "            entails = False\n",
        "\n",
        "    return entails\n",
        "\n",
        "KB = input(\"Enter Knowledge Base (use &, |, ~ for AND, OR, NOT): \")\n",
        "query = input(\"Enter Query: \")\n",
        "\n",
        "result = tt_entails(KB, query)\n",
        "\n",
        "print(\"\\nResult:\")\n",
        "if result:\n",
        "    print(\"KB entails Query (True in all cases).\")\n",
        "else:\n",
        "    print(\"KB does NOT entail Query.\")\n",
        "\n",
        "print(\"Sharada Koundinya - 1BM23CS310\")\n"
      ],
      "metadata": {
        "colab": {
          "base_uri": "https://localhost:8080/"
        },
        "id": "mvGfJ04L4Ts0",
        "outputId": "c8556349-958a-44b7-b084-36fbcabc42e0"
      },
      "execution_count": 5,
      "outputs": [
        {
          "output_type": "stream",
          "name": "stdout",
          "text": [
            "Enter Knowledge Base (use &, |, ~ for AND, OR, NOT): (A|C)&(B|~C)\n",
            "Enter Query:  A|B\n",
            "\n",
            "Truth Table:\n",
            "A | B | C | KB | Query\n",
            "--------------------------------------\n",
            "F | F | F |  0  |  False\n",
            "F | F | T |  0  |  False\n",
            "F | T | F |  0  |  True\n",
            "F | T | T |  1  |  True\n",
            "T | F | F |  1  |  True\n",
            "T | F | T |  0  |  True\n",
            "T | T | F |  1  |  True\n",
            "T | T | T |  1  |  True\n",
            "\n",
            "Result:\n",
            "KB entails Query (True in all cases).\n",
            "Sharada Koundinya - 1BM23CS310\n"
          ]
        }
      ]
    }
  ]
}