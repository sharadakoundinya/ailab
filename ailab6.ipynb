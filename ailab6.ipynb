{
  "nbformat": 4,
  "nbformat_minor": 0,
  "metadata": {
    "colab": {
      "provenance": []
    },
    "kernelspec": {
      "name": "python3",
      "display_name": "Python 3"
    },
    "language_info": {
      "name": "python"
    }
  },
  "cells": [
    {
      "cell_type": "code",
      "source": [
        "print(\"Week 7\")\n",
        "# Hill Climbing for N-Queens with full trace for Observation Book\n",
        "\n",
        "# Heuristic: number of attacking pairs\n",
        "def calculate_cost(state):\n",
        "    cost = 0\n",
        "    n = len(state)\n",
        "    for i in range(n):\n",
        "        for j in range(i + 1, n):\n",
        "            if state[i] == state[j] or abs(state[i] - state[j]) == abs(i - j):\n",
        "                cost += 1\n",
        "    return cost\n",
        "\n",
        "# Generate neighbors (move one queen in a column to a different row)\n",
        "def generate_neighbors(state):\n",
        "    neighbors = []\n",
        "    n = len(state)\n",
        "    for col in range(n):\n",
        "        for row in range(n):\n",
        "            if state[col] != row:  # move queen\n",
        "                new_state = list(state)\n",
        "                new_state[col] = row\n",
        "                neighbors.append(new_state)\n",
        "    return neighbors\n",
        "\n",
        "def hill_climbing(initial_state):\n",
        "    current = initial_state\n",
        "    current_cost = calculate_cost(current)\n",
        "    step = 0\n",
        "\n",
        "    print(f\"Step {step}: State = {current}, Cost = {current_cost}\")\n",
        "\n",
        "    while True:\n",
        "        neighbors = generate_neighbors(current)\n",
        "        neighbor_costs = [(n, calculate_cost(n)) for n in neighbors]\n",
        "\n",
        "        # Print state space for this step\n",
        "        print(\"\\nNeighbors and their costs:\")\n",
        "        for n, c in neighbor_costs:\n",
        "            print(f\"   {n} -> Cost = {c}\")\n",
        "\n",
        "        # Pick the best neighbor (lowest cost)\n",
        "        best_neighbor, best_cost = min(neighbor_costs, key=lambda x: x[1])\n",
        "\n",
        "        if best_cost >= current_cost:\n",
        "            break\n",
        "\n",
        "        # Move to better state\n",
        "        step += 1\n",
        "        current, current_cost = best_neighbor, best_cost\n",
        "        print(f\"\\nStep {step}: Move to {current}, Cost = {current_cost}\")\n",
        "\n",
        "        if current_cost == 0:\n",
        "            print(\"\\nGoal reached! Solution found.\")\n",
        "            break\n",
        "\n",
        "initial_state = [3, 1, 2, 0]\n",
        "\n",
        "hill_climbing(initial_state)\n",
        "\n",
        "print(\"SHARADA KOUNDINYA - 1BM23CS310\")"
      ],
      "metadata": {
        "colab": {
          "base_uri": "https://localhost:8080/"
        },
        "id": "Q0V_gw7U9FP6",
        "outputId": "dbff8e70-8b57-41cf-ab94-523f9992972b"
      },
      "execution_count": null,
      "outputs": [
        {
          "output_type": "stream",
          "name": "stdout",
          "text": [
            "Week 7\n",
            "Step 0: State = [3, 1, 2, 0], Cost = 2\n",
            "\n",
            "Neighbors and their costs:\n",
            "   [0, 1, 2, 0] -> Cost = 4\n",
            "   [1, 1, 2, 0] -> Cost = 2\n",
            "   [2, 1, 2, 0] -> Cost = 3\n",
            "   [3, 0, 2, 0] -> Cost = 2\n",
            "   [3, 2, 2, 0] -> Cost = 4\n",
            "   [3, 3, 2, 0] -> Cost = 3\n",
            "   [3, 1, 0, 0] -> Cost = 3\n",
            "   [3, 1, 1, 0] -> Cost = 4\n",
            "   [3, 1, 3, 0] -> Cost = 2\n",
            "   [3, 1, 2, 1] -> Cost = 3\n",
            "   [3, 1, 2, 2] -> Cost = 2\n",
            "   [3, 1, 2, 3] -> Cost = 4\n",
            "SHARADA KOUNDINYA - 1BM23CS310\n"
          ]
        }
      ]
    }
  ]
}